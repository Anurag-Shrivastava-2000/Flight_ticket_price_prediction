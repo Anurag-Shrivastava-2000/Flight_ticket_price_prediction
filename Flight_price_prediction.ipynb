{
 "cells": [
  {
   "cell_type": "code",
   "execution_count": 1,
   "id": "cda0bc15-86fa-4f4b-9f1d-6420bd0eb539",
   "metadata": {},
   "outputs": [],
   "source": [
    "import pandas as pd\n",
    "import numpy as np\n",
    "import matplotlib.pyplot as plt\n",
    "import seaborn as sns\n",
    "import warnings\n",
    "\n",
    "warnings.filterwarnings(\"ignore\")\n",
    "pd.set_option('display.max_columns', None)"
   ]
  },
  {
   "cell_type": "code",
   "execution_count": 2,
   "id": "4aac15a4-f5c6-4719-92ea-776f4f294222",
   "metadata": {},
   "outputs": [
    {
     "data": {
      "text/html": [
       "<div>\n",
       "<style scoped>\n",
       "    .dataframe tbody tr th:only-of-type {\n",
       "        vertical-align: middle;\n",
       "    }\n",
       "\n",
       "    .dataframe tbody tr th {\n",
       "        vertical-align: top;\n",
       "    }\n",
       "\n",
       "    .dataframe thead th {\n",
       "        text-align: right;\n",
       "    }\n",
       "</style>\n",
       "<table border=\"1\" class=\"dataframe\">\n",
       "  <thead>\n",
       "    <tr style=\"text-align: right;\">\n",
       "      <th></th>\n",
       "      <th>Unnamed: 0</th>\n",
       "      <th>airline</th>\n",
       "      <th>flight</th>\n",
       "      <th>source_city</th>\n",
       "      <th>departure_time</th>\n",
       "      <th>stops</th>\n",
       "      <th>arrival_time</th>\n",
       "      <th>destination_city</th>\n",
       "      <th>class</th>\n",
       "      <th>duration</th>\n",
       "      <th>days_left</th>\n",
       "      <th>price</th>\n",
       "    </tr>\n",
       "  </thead>\n",
       "  <tbody>\n",
       "    <tr>\n",
       "      <th>0</th>\n",
       "      <td>0</td>\n",
       "      <td>SpiceJet</td>\n",
       "      <td>SG-8709</td>\n",
       "      <td>Delhi</td>\n",
       "      <td>Evening</td>\n",
       "      <td>zero</td>\n",
       "      <td>Night</td>\n",
       "      <td>Mumbai</td>\n",
       "      <td>Economy</td>\n",
       "      <td>2.17</td>\n",
       "      <td>1</td>\n",
       "      <td>5953</td>\n",
       "    </tr>\n",
       "    <tr>\n",
       "      <th>1</th>\n",
       "      <td>1</td>\n",
       "      <td>SpiceJet</td>\n",
       "      <td>SG-8157</td>\n",
       "      <td>Delhi</td>\n",
       "      <td>Early_Morning</td>\n",
       "      <td>zero</td>\n",
       "      <td>Morning</td>\n",
       "      <td>Mumbai</td>\n",
       "      <td>Economy</td>\n",
       "      <td>2.33</td>\n",
       "      <td>1</td>\n",
       "      <td>5953</td>\n",
       "    </tr>\n",
       "    <tr>\n",
       "      <th>2</th>\n",
       "      <td>2</td>\n",
       "      <td>AirAsia</td>\n",
       "      <td>I5-764</td>\n",
       "      <td>Delhi</td>\n",
       "      <td>Early_Morning</td>\n",
       "      <td>zero</td>\n",
       "      <td>Early_Morning</td>\n",
       "      <td>Mumbai</td>\n",
       "      <td>Economy</td>\n",
       "      <td>2.17</td>\n",
       "      <td>1</td>\n",
       "      <td>5956</td>\n",
       "    </tr>\n",
       "    <tr>\n",
       "      <th>3</th>\n",
       "      <td>3</td>\n",
       "      <td>Vistara</td>\n",
       "      <td>UK-995</td>\n",
       "      <td>Delhi</td>\n",
       "      <td>Morning</td>\n",
       "      <td>zero</td>\n",
       "      <td>Afternoon</td>\n",
       "      <td>Mumbai</td>\n",
       "      <td>Economy</td>\n",
       "      <td>2.25</td>\n",
       "      <td>1</td>\n",
       "      <td>5955</td>\n",
       "    </tr>\n",
       "    <tr>\n",
       "      <th>4</th>\n",
       "      <td>4</td>\n",
       "      <td>Vistara</td>\n",
       "      <td>UK-963</td>\n",
       "      <td>Delhi</td>\n",
       "      <td>Morning</td>\n",
       "      <td>zero</td>\n",
       "      <td>Morning</td>\n",
       "      <td>Mumbai</td>\n",
       "      <td>Economy</td>\n",
       "      <td>2.33</td>\n",
       "      <td>1</td>\n",
       "      <td>5955</td>\n",
       "    </tr>\n",
       "  </tbody>\n",
       "</table>\n",
       "</div>"
      ],
      "text/plain": [
       "   Unnamed: 0   airline   flight source_city departure_time stops  \\\n",
       "0           0  SpiceJet  SG-8709       Delhi        Evening  zero   \n",
       "1           1  SpiceJet  SG-8157       Delhi  Early_Morning  zero   \n",
       "2           2   AirAsia   I5-764       Delhi  Early_Morning  zero   \n",
       "3           3   Vistara   UK-995       Delhi        Morning  zero   \n",
       "4           4   Vistara   UK-963       Delhi        Morning  zero   \n",
       "\n",
       "    arrival_time destination_city    class  duration  days_left  price  \n",
       "0          Night           Mumbai  Economy      2.17          1   5953  \n",
       "1        Morning           Mumbai  Economy      2.33          1   5953  \n",
       "2  Early_Morning           Mumbai  Economy      2.17          1   5956  \n",
       "3      Afternoon           Mumbai  Economy      2.25          1   5955  \n",
       "4        Morning           Mumbai  Economy      2.33          1   5955  "
      ]
     },
     "execution_count": 2,
     "metadata": {},
     "output_type": "execute_result"
    }
   ],
   "source": [
    "df = pd.read_csv('Clean_Dataset.csv')\n",
    "\n",
    "df.head()"
   ]
  },
  {
   "cell_type": "markdown",
   "id": "bf9456af-29ff-4f83-9b47-fc7cf29d1405",
   "metadata": {},
   "source": [
    "# Data CLeaning\n"
   ]
  },
  {
   "cell_type": "code",
   "execution_count": 3,
   "id": "1ecb8233-9413-46f9-9945-16f8b05af96b",
   "metadata": {},
   "outputs": [],
   "source": [
    "df = df.drop(columns=['Unnamed: 0'], axis = 1)"
   ]
  },
  {
   "cell_type": "code",
   "execution_count": 4,
   "id": "ee69d8ca-1c21-4a9d-956f-da249e8cc3cd",
   "metadata": {},
   "outputs": [],
   "source": [
    "df = df.drop(columns=['flight'], axis = 1)"
   ]
  },
  {
   "cell_type": "code",
   "execution_count": 5,
   "id": "16907533-8d24-42c8-936b-c427ed175a88",
   "metadata": {},
   "outputs": [
    {
     "data": {
      "text/html": [
       "<div>\n",
       "<style scoped>\n",
       "    .dataframe tbody tr th:only-of-type {\n",
       "        vertical-align: middle;\n",
       "    }\n",
       "\n",
       "    .dataframe tbody tr th {\n",
       "        vertical-align: top;\n",
       "    }\n",
       "\n",
       "    .dataframe thead th {\n",
       "        text-align: right;\n",
       "    }\n",
       "</style>\n",
       "<table border=\"1\" class=\"dataframe\">\n",
       "  <thead>\n",
       "    <tr style=\"text-align: right;\">\n",
       "      <th></th>\n",
       "      <th>airline</th>\n",
       "      <th>source_city</th>\n",
       "      <th>departure_time</th>\n",
       "      <th>stops</th>\n",
       "      <th>arrival_time</th>\n",
       "      <th>destination_city</th>\n",
       "      <th>class</th>\n",
       "      <th>duration</th>\n",
       "      <th>days_left</th>\n",
       "      <th>price</th>\n",
       "    </tr>\n",
       "  </thead>\n",
       "  <tbody>\n",
       "    <tr>\n",
       "      <th>0</th>\n",
       "      <td>SpiceJet</td>\n",
       "      <td>Delhi</td>\n",
       "      <td>Evening</td>\n",
       "      <td>zero</td>\n",
       "      <td>Night</td>\n",
       "      <td>Mumbai</td>\n",
       "      <td>Economy</td>\n",
       "      <td>2.17</td>\n",
       "      <td>1</td>\n",
       "      <td>5953</td>\n",
       "    </tr>\n",
       "    <tr>\n",
       "      <th>1</th>\n",
       "      <td>SpiceJet</td>\n",
       "      <td>Delhi</td>\n",
       "      <td>Early_Morning</td>\n",
       "      <td>zero</td>\n",
       "      <td>Morning</td>\n",
       "      <td>Mumbai</td>\n",
       "      <td>Economy</td>\n",
       "      <td>2.33</td>\n",
       "      <td>1</td>\n",
       "      <td>5953</td>\n",
       "    </tr>\n",
       "    <tr>\n",
       "      <th>2</th>\n",
       "      <td>AirAsia</td>\n",
       "      <td>Delhi</td>\n",
       "      <td>Early_Morning</td>\n",
       "      <td>zero</td>\n",
       "      <td>Early_Morning</td>\n",
       "      <td>Mumbai</td>\n",
       "      <td>Economy</td>\n",
       "      <td>2.17</td>\n",
       "      <td>1</td>\n",
       "      <td>5956</td>\n",
       "    </tr>\n",
       "    <tr>\n",
       "      <th>3</th>\n",
       "      <td>Vistara</td>\n",
       "      <td>Delhi</td>\n",
       "      <td>Morning</td>\n",
       "      <td>zero</td>\n",
       "      <td>Afternoon</td>\n",
       "      <td>Mumbai</td>\n",
       "      <td>Economy</td>\n",
       "      <td>2.25</td>\n",
       "      <td>1</td>\n",
       "      <td>5955</td>\n",
       "    </tr>\n",
       "    <tr>\n",
       "      <th>4</th>\n",
       "      <td>Vistara</td>\n",
       "      <td>Delhi</td>\n",
       "      <td>Morning</td>\n",
       "      <td>zero</td>\n",
       "      <td>Morning</td>\n",
       "      <td>Mumbai</td>\n",
       "      <td>Economy</td>\n",
       "      <td>2.33</td>\n",
       "      <td>1</td>\n",
       "      <td>5955</td>\n",
       "    </tr>\n",
       "  </tbody>\n",
       "</table>\n",
       "</div>"
      ],
      "text/plain": [
       "    airline source_city departure_time stops   arrival_time destination_city  \\\n",
       "0  SpiceJet       Delhi        Evening  zero          Night           Mumbai   \n",
       "1  SpiceJet       Delhi  Early_Morning  zero        Morning           Mumbai   \n",
       "2   AirAsia       Delhi  Early_Morning  zero  Early_Morning           Mumbai   \n",
       "3   Vistara       Delhi        Morning  zero      Afternoon           Mumbai   \n",
       "4   Vistara       Delhi        Morning  zero        Morning           Mumbai   \n",
       "\n",
       "     class  duration  days_left  price  \n",
       "0  Economy      2.17          1   5953  \n",
       "1  Economy      2.33          1   5953  \n",
       "2  Economy      2.17          1   5956  \n",
       "3  Economy      2.25          1   5955  \n",
       "4  Economy      2.33          1   5955  "
      ]
     },
     "execution_count": 5,
     "metadata": {},
     "output_type": "execute_result"
    }
   ],
   "source": [
    "df.head()"
   ]
  },
  {
   "cell_type": "code",
   "execution_count": 7,
   "id": "7c11bb40-ea9a-49e8-a629-839ca369a342",
   "metadata": {},
   "outputs": [
    {
     "data": {
      "text/html": [
       "<div>\n",
       "<style scoped>\n",
       "    .dataframe tbody tr th:only-of-type {\n",
       "        vertical-align: middle;\n",
       "    }\n",
       "\n",
       "    .dataframe tbody tr th {\n",
       "        vertical-align: top;\n",
       "    }\n",
       "\n",
       "    .dataframe thead th {\n",
       "        text-align: right;\n",
       "    }\n",
       "</style>\n",
       "<table border=\"1\" class=\"dataframe\">\n",
       "  <thead>\n",
       "    <tr style=\"text-align: right;\">\n",
       "      <th></th>\n",
       "      <th>duration</th>\n",
       "      <th>days_left</th>\n",
       "      <th>price</th>\n",
       "    </tr>\n",
       "  </thead>\n",
       "  <tbody>\n",
       "    <tr>\n",
       "      <th>count</th>\n",
       "      <td>300153.000000</td>\n",
       "      <td>300153.000000</td>\n",
       "      <td>300153.000000</td>\n",
       "    </tr>\n",
       "    <tr>\n",
       "      <th>mean</th>\n",
       "      <td>12.221021</td>\n",
       "      <td>26.004751</td>\n",
       "      <td>20889.660523</td>\n",
       "    </tr>\n",
       "    <tr>\n",
       "      <th>std</th>\n",
       "      <td>7.191997</td>\n",
       "      <td>13.561004</td>\n",
       "      <td>22697.767366</td>\n",
       "    </tr>\n",
       "    <tr>\n",
       "      <th>min</th>\n",
       "      <td>0.830000</td>\n",
       "      <td>1.000000</td>\n",
       "      <td>1105.000000</td>\n",
       "    </tr>\n",
       "    <tr>\n",
       "      <th>25%</th>\n",
       "      <td>6.830000</td>\n",
       "      <td>15.000000</td>\n",
       "      <td>4783.000000</td>\n",
       "    </tr>\n",
       "    <tr>\n",
       "      <th>50%</th>\n",
       "      <td>11.250000</td>\n",
       "      <td>26.000000</td>\n",
       "      <td>7425.000000</td>\n",
       "    </tr>\n",
       "    <tr>\n",
       "      <th>75%</th>\n",
       "      <td>16.170000</td>\n",
       "      <td>38.000000</td>\n",
       "      <td>42521.000000</td>\n",
       "    </tr>\n",
       "    <tr>\n",
       "      <th>max</th>\n",
       "      <td>49.830000</td>\n",
       "      <td>49.000000</td>\n",
       "      <td>123071.000000</td>\n",
       "    </tr>\n",
       "  </tbody>\n",
       "</table>\n",
       "</div>"
      ],
      "text/plain": [
       "            duration      days_left          price\n",
       "count  300153.000000  300153.000000  300153.000000\n",
       "mean       12.221021      26.004751   20889.660523\n",
       "std         7.191997      13.561004   22697.767366\n",
       "min         0.830000       1.000000    1105.000000\n",
       "25%         6.830000      15.000000    4783.000000\n",
       "50%        11.250000      26.000000    7425.000000\n",
       "75%        16.170000      38.000000   42521.000000\n",
       "max        49.830000      49.000000  123071.000000"
      ]
     },
     "execution_count": 7,
     "metadata": {},
     "output_type": "execute_result"
    }
   ],
   "source": [
    "df.describe()"
   ]
  },
  {
   "cell_type": "code",
   "execution_count": 8,
   "id": "295682a5-e833-4027-ac42-3a039cb6c073",
   "metadata": {},
   "outputs": [
    {
     "data": {
      "text/plain": [
       "airline   source_city  departure_time  stops  arrival_time  destination_city  class    duration  days_left  price\n",
       "SpiceJet  Mumbai       Early_Morning   zero   Morning       Kolkata           Economy  2.67      14         7412     4\n",
       "Indigo    Delhi        Early_Morning   zero   Morning       Mumbai            Economy  2.17      48         2410     3\n",
       "                                                                                                 47         2410     3\n",
       "SpiceJet  Mumbai       Early_Morning   zero   Morning       Kolkata           Economy  2.67      7          7412     3\n",
       "                                                                                                 10         7412     3\n",
       "                                                                                                                    ..\n",
       "Vistara   Mumbai       Night           zero   Night         Delhi             Economy  2.08      45         2339     1\n",
       "                                                                                                 46         2389     1\n",
       "                                                                                                 47         2339     1\n",
       "                                                                                                 48         2339     1\n",
       "AirAsia   Bangalore    Afternoon       one    Evening       Delhi             Economy  5.83      6          7484     1\n",
       "Name: count, Length: 297940, dtype: int64"
      ]
     },
     "execution_count": 8,
     "metadata": {},
     "output_type": "execute_result"
    }
   ],
   "source": [
    "df.value_counts()"
   ]
  },
  {
   "cell_type": "markdown",
   "id": "3ab8545f-b92b-44f3-a47e-a767cf4a59e4",
   "metadata": {},
   "source": [
    "# Data Preprocessing"
   ]
  },
  {
   "cell_type": "code",
   "execution_count": 14,
   "id": "b4e1207e-e40e-4406-8ef7-294abf396d2f",
   "metadata": {},
   "outputs": [
    {
     "data": {
      "text/html": [
       "<div>\n",
       "<style scoped>\n",
       "    .dataframe tbody tr th:only-of-type {\n",
       "        vertical-align: middle;\n",
       "    }\n",
       "\n",
       "    .dataframe tbody tr th {\n",
       "        vertical-align: top;\n",
       "    }\n",
       "\n",
       "    .dataframe thead th {\n",
       "        text-align: right;\n",
       "    }\n",
       "</style>\n",
       "<table border=\"1\" class=\"dataframe\">\n",
       "  <thead>\n",
       "    <tr style=\"text-align: right;\">\n",
       "      <th></th>\n",
       "      <th>airline</th>\n",
       "      <th>source_city</th>\n",
       "      <th>departure_time</th>\n",
       "      <th>arrival_time</th>\n",
       "      <th>destination_city</th>\n",
       "      <th>class</th>\n",
       "    </tr>\n",
       "  </thead>\n",
       "  <tbody>\n",
       "    <tr>\n",
       "      <th>0</th>\n",
       "      <td>6179.278881</td>\n",
       "      <td>18951.326639</td>\n",
       "      <td>21232.361894</td>\n",
       "      <td>21586.758341</td>\n",
       "      <td>21372.529469</td>\n",
       "      <td>6572.342383</td>\n",
       "    </tr>\n",
       "    <tr>\n",
       "      <th>1</th>\n",
       "      <td>6179.278881</td>\n",
       "      <td>18951.326639</td>\n",
       "      <td>20370.676718</td>\n",
       "      <td>22231.076098</td>\n",
       "      <td>21372.529469</td>\n",
       "      <td>6572.342383</td>\n",
       "    </tr>\n",
       "    <tr>\n",
       "      <th>2</th>\n",
       "      <td>4091.072742</td>\n",
       "      <td>18951.326639</td>\n",
       "      <td>20370.676718</td>\n",
       "      <td>14993.139521</td>\n",
       "      <td>21372.529469</td>\n",
       "      <td>6572.342383</td>\n",
       "    </tr>\n",
       "    <tr>\n",
       "      <th>3</th>\n",
       "      <td>30396.536302</td>\n",
       "      <td>18951.326639</td>\n",
       "      <td>21630.760254</td>\n",
       "      <td>18494.598993</td>\n",
       "      <td>21372.529469</td>\n",
       "      <td>6572.342383</td>\n",
       "    </tr>\n",
       "    <tr>\n",
       "      <th>4</th>\n",
       "      <td>30396.536302</td>\n",
       "      <td>18951.326639</td>\n",
       "      <td>21630.760254</td>\n",
       "      <td>22231.076098</td>\n",
       "      <td>21372.529469</td>\n",
       "      <td>6572.342383</td>\n",
       "    </tr>\n",
       "    <tr>\n",
       "      <th>...</th>\n",
       "      <td>...</td>\n",
       "      <td>...</td>\n",
       "      <td>...</td>\n",
       "      <td>...</td>\n",
       "      <td>...</td>\n",
       "      <td>...</td>\n",
       "    </tr>\n",
       "    <tr>\n",
       "      <th>300148</th>\n",
       "      <td>30396.536302</td>\n",
       "      <td>21995.339871</td>\n",
       "      <td>21630.760254</td>\n",
       "      <td>23044.371615</td>\n",
       "      <td>20427.661284</td>\n",
       "      <td>52540.081124</td>\n",
       "    </tr>\n",
       "    <tr>\n",
       "      <th>300149</th>\n",
       "      <td>30396.536302</td>\n",
       "      <td>21995.339871</td>\n",
       "      <td>18179.203331</td>\n",
       "      <td>21586.758341</td>\n",
       "      <td>20427.661284</td>\n",
       "      <td>52540.081124</td>\n",
       "    </tr>\n",
       "    <tr>\n",
       "      <th>300150</th>\n",
       "      <td>30396.536302</td>\n",
       "      <td>21995.339871</td>\n",
       "      <td>20370.676718</td>\n",
       "      <td>21586.758341</td>\n",
       "      <td>20427.661284</td>\n",
       "      <td>52540.081124</td>\n",
       "    </tr>\n",
       "    <tr>\n",
       "      <th>300151</th>\n",
       "      <td>30396.536302</td>\n",
       "      <td>21995.339871</td>\n",
       "      <td>20370.676718</td>\n",
       "      <td>23044.371615</td>\n",
       "      <td>20427.661284</td>\n",
       "      <td>52540.081124</td>\n",
       "    </tr>\n",
       "    <tr>\n",
       "      <th>300152</th>\n",
       "      <td>30396.536302</td>\n",
       "      <td>21995.339871</td>\n",
       "      <td>21630.760254</td>\n",
       "      <td>23044.371615</td>\n",
       "      <td>20427.661284</td>\n",
       "      <td>52540.081124</td>\n",
       "    </tr>\n",
       "  </tbody>\n",
       "</table>\n",
       "<p>300153 rows × 6 columns</p>\n",
       "</div>"
      ],
      "text/plain": [
       "             airline   source_city  departure_time  arrival_time  \\\n",
       "0        6179.278881  18951.326639    21232.361894  21586.758341   \n",
       "1        6179.278881  18951.326639    20370.676718  22231.076098   \n",
       "2        4091.072742  18951.326639    20370.676718  14993.139521   \n",
       "3       30396.536302  18951.326639    21630.760254  18494.598993   \n",
       "4       30396.536302  18951.326639    21630.760254  22231.076098   \n",
       "...              ...           ...             ...           ...   \n",
       "300148  30396.536302  21995.339871    21630.760254  23044.371615   \n",
       "300149  30396.536302  21995.339871    18179.203331  21586.758341   \n",
       "300150  30396.536302  21995.339871    20370.676718  21586.758341   \n",
       "300151  30396.536302  21995.339871    20370.676718  23044.371615   \n",
       "300152  30396.536302  21995.339871    21630.760254  23044.371615   \n",
       "\n",
       "        destination_city         class  \n",
       "0           21372.529469   6572.342383  \n",
       "1           21372.529469   6572.342383  \n",
       "2           21372.529469   6572.342383  \n",
       "3           21372.529469   6572.342383  \n",
       "4           21372.529469   6572.342383  \n",
       "...                  ...           ...  \n",
       "300148      20427.661284  52540.081124  \n",
       "300149      20427.661284  52540.081124  \n",
       "300150      20427.661284  52540.081124  \n",
       "300151      20427.661284  52540.081124  \n",
       "300152      20427.661284  52540.081124  \n",
       "\n",
       "[300153 rows x 6 columns]"
      ]
     },
     "execution_count": 14,
     "metadata": {},
     "output_type": "execute_result"
    }
   ],
   "source": [
    "#Target Encoding\n",
    "\n",
    "cols = ['airline', 'source_city', 'departure_time', 'arrival_time', 'destination_city', 'class']\n",
    "\n",
    "for i in cols:\n",
    "    df[i] = df.groupby([i])['price'].transform('mean')\n",
    "\n",
    "df[cols]"
   ]
  },
  {
   "cell_type": "code",
   "execution_count": 15,
   "id": "78001e1a-a2a6-48ff-b53e-0ec7052f18dc",
   "metadata": {},
   "outputs": [],
   "source": [
    "#Label Encoding\n",
    "\n",
    "df['stops'] = df['stops'].map({'zero': 0, 'one': 1, 'two_or_more': 2})"
   ]
  },
  {
   "cell_type": "code",
   "execution_count": 16,
   "id": "ce4dd8e7-3f56-4b3e-96ce-c03a0de3a956",
   "metadata": {},
   "outputs": [
    {
     "data": {
      "text/plain": [
       "0         0\n",
       "1         0\n",
       "2         0\n",
       "3         0\n",
       "4         0\n",
       "         ..\n",
       "300148    1\n",
       "300149    1\n",
       "300150    1\n",
       "300151    1\n",
       "300152    1\n",
       "Name: stops, Length: 300153, dtype: int64"
      ]
     },
     "execution_count": 16,
     "metadata": {},
     "output_type": "execute_result"
    }
   ],
   "source": [
    "df['stops']"
   ]
  },
  {
   "cell_type": "markdown",
   "id": "2d2dff4c-a6da-4afb-ba16-492c85873cc1",
   "metadata": {},
   "source": [
    "## Correlation map"
   ]
  },
  {
   "cell_type": "code",
   "execution_count": 17,
   "id": "e81ea53b-0ada-4fd6-8340-fdc571bb8c13",
   "metadata": {},
   "outputs": [
    {
     "data": {
      "text/plain": [
       "<Axes: >"
      ]
     },
     "execution_count": 17,
     "metadata": {},
     "output_type": "execute_result"
    },
    {
     "data": {
      "image/png": "[encoded data removed]",
      "text/plain": [
       "<Figure size 640x480 with 2 Axes>"
      ]
     },
     "metadata": {},
     "output_type": "display_data"
    }
   ],
   "source": [
    "sns.heatmap(df.corr())"
   ]
  },
  {
   "cell_type": "markdown",
   "id": "fede7570-bf99-4d6a-ae0a-b2a24fb4e3cd",
   "metadata": {},
   "source": [
    "# Machine Learning"
   ]
  },
  {
   "cell_type": "code",
   "execution_count": 18,
   "id": "bbecf522-7fd0-46c8-b58b-ab868edbe78d",
   "metadata": {},
   "outputs": [],
   "source": [
    "X = df.drop(columns = ['price'], axis=1)\n",
    "y = df['price']"
   ]
  },
  {
   "cell_type": "code",
   "execution_count": 19,
   "id": "481ba140-289f-4365-9503-aa66540cc2d1",
   "metadata": {},
   "outputs": [
    {
     "name": "stdout",
     "output_type": "stream",
     "text": [
      "0.9039051308893866\n"
     ]
    }
   ],
   "source": [
    "from sklearn.model_selection import train_test_split\n",
    "from sklearn.linear_model import LinearRegression\n",
    "from sklearn.metrics import r2_score, root_mean_squared_error\n",
    "\n",
    "#Basemodel Estimator\n",
    "model1 = LinearRegression()\n",
    "\n",
    "X_train, X_test, y_train, y_test = train_test_split(X, y, test_size = 0.2, random_state = 42)\n",
    "\n",
    "model1.fit(X_train, y_train)\n",
    "y_pred = model1.predict(X_test)\n",
    "\n",
    "print(r2_score(y_test, y_pred))\n"
   ]
  },
  {
   "cell_type": "code",
   "execution_count": 20,
   "id": "ecf5f438-e248-4a06-b67f-71573ccebb0b",
   "metadata": {},
   "outputs": [
    {
     "data": {
      "text/plain": [
       "7038.124864439549"
      ]
     },
     "execution_count": 20,
     "metadata": {},
     "output_type": "execute_result"
    }
   ],
   "source": [
    "root_mean_squared_error(y_test, y_pred)"
   ]
  },
  {
   "cell_type": "markdown",
   "id": "9c9fad1e-0e75-4082-8e7f-cbea835d7cd0",
   "metadata": {},
   "source": [
    "Base model of Linear Regression gives promisin result. Will do the crossvalidation to check model bias and variance spread."
   ]
  },
  {
   "cell_type": "code",
   "execution_count": 25,
   "id": "7a8dced2-2fa3-43d8-a375-f9dede7db128",
   "metadata": {},
   "outputs": [
    {
     "name": "stdout",
     "output_type": "stream",
     "text": [
      "Cross-validated R² scores: [-0.6730326  -0.06801758 -0.04369855  0.83686045  0.07381344]\n",
      "Mean: 0.025185032554030307\n",
      "Standard Deviation: 0.4821039811053131\n"
     ]
    }
   ],
   "source": [
    "from sklearn.model_selection import cross_val_score\n",
    "\n",
    "model = LinearRegression()\n",
    "scores = cross_val_score(model, X, y, scoring='r2', cv=5)\n",
    "\n",
    "print(\"Cross-validated R² scores:\", scores)\n",
    "print(\"Mean:\", np.mean(scores))\n",
    "print(\"Standard Deviation:\", np.std(scores))"
   ]
  },
  {
   "cell_type": "markdown",
   "id": "1513d823-6888-4c63-959e-de8959c95800",
   "metadata": {},
   "source": [
    "Base model mean is low and standard deviation is high, need to check witb other models to get better result."
   ]
  },
  {
   "cell_type": "code",
   "execution_count": 26,
   "id": "c43e80d3-cf52-46e7-a028-2289157256fb",
   "metadata": {},
   "outputs": [
    {
     "name": "stdout",
     "output_type": "stream",
     "text": [
      "RF CV R² mean: 0.49740037302184403\n",
      "GB CV R² mean: 0.6041247641731788\n"
     ]
    }
   ],
   "source": [
    "# Comparing RandomForestRegressor and GradientBoostingRegressor\n",
    "\n",
    "from sklearn.ensemble import RandomForestRegressor, GradientBoostingRegressor\n",
    "\n",
    "# Bagging: Random Forest\n",
    "rf = RandomForestRegressor()\n",
    "rf_scores = cross_val_score(rf, X, y, scoring='r2', cv=5)\n",
    "print(\"RF CV R² mean:\", np.mean(rf_scores))\n",
    "\n",
    "# Boosting: Gradient Boosting\n",
    "gb = GradientBoostingRegressor()\n",
    "gb_scores = cross_val_score(gb, X, y, scoring='r2', cv=5)\n",
    "print(\"GB CV R² mean:\", np.mean(gb_scores))\n"
   ]
  },
  {
   "cell_type": "code",
   "execution_count": 27,
   "id": "4d5dac2a-5772-4397-9dba-c44a8861026f",
   "metadata": {},
   "outputs": [
    {
     "name": "stdout",
     "output_type": "stream",
     "text": [
      "XGB CV R² mean: 0.4222315430641174\n"
     ]
    }
   ],
   "source": [
    "# Also checking the score for XGBRegressor\n",
    "\n",
    "from xgboost import XGBRegressor\n",
    "\n",
    "xgb = XGBRegressor()\n",
    "xgb_scores = cross_val_score(xgb, X, y, scoring='r2', cv=5)\n",
    "print(\"XGB CV R² mean:\", np.mean(xgb_scores))"
   ]
  },
  {
   "cell_type": "markdown",
   "id": "1b58ad1a-3d38-4dea-9814-ec221eb212f7",
   "metadata": {},
   "source": [
    "Gradient Boosting Regressor has given the best mean of r2_score so far, will do parameter tuning, using gridsearchcv to find the best parameter.\n"
   ]
  },
  {
   "cell_type": "code",
   "execution_count": 28,
   "id": "b39e2700-1a7a-4c5c-ab59-536acd5fd2f9",
   "metadata": {},
   "outputs": [
    {
     "name": "stdout",
     "output_type": "stream",
     "text": [
      "Best Parameters: {'learning_rate': 0.1, 'max_depth': 5, 'n_estimators': 200, 'subsample': 0.8}\n"
     ]
    }
   ],
   "source": [
    "from sklearn.model_selection import GridSearchCV\n",
    "\n",
    "gbr = GradientBoostingRegressor(random_state=42)\n",
    "\n",
    "param_grid = {\n",
    "    'n_estimators': [100, 200],\n",
    "    'learning_rate': [0.05, 0.1],\n",
    "    'max_depth': [3, 5],\n",
    "    'subsample': [0.8, 1.0]\n",
    "}\n",
    "\n",
    "grid_search = GridSearchCV(estimator=gbr,\n",
    "                           param_grid=param_grid,\n",
    "                           cv=5,\n",
    "                           scoring='r2',\n",
    "                           n_jobs=-1)\n",
    "\n",
    "# Fit the model\n",
    "grid_search.fit(X_train, y_train)\n",
    "\n",
    "# Best parameters\n",
    "print(\"Best Parameters:\", grid_search.best_params_)"
   ]
  },
  {
   "cell_type": "code",
   "execution_count": 29,
   "id": "22ec3b03-8ce1-413a-b971-277618228424",
   "metadata": {},
   "outputs": [],
   "source": [
    "gbr = GradientBoostingRegressor(n_estimators = 200, max_depth = 5, subsample = 0.8, learning_rate = 0.1)\n",
    "\n",
    "gbr.fit(X_train, y_train)\n",
    "\n",
    "y_pred_final = gbr.predict(X_test)"
   ]
  },
  {
   "cell_type": "code",
   "execution_count": 30,
   "id": "2d5712f3-951f-4b21-a4f5-5a95c5428bd1",
   "metadata": {},
   "outputs": [
    {
     "data": {
      "text/plain": [
       "0.9664939936026409"
      ]
     },
     "execution_count": 30,
     "metadata": {},
     "output_type": "execute_result"
    }
   ],
   "source": [
    "r2_score(y_test, y_pred_final)"
   ]
  },
  {
   "cell_type": "code",
   "execution_count": 31,
   "id": "4ae51899-38da-48b7-b8c9-65009b37a9ca",
   "metadata": {},
   "outputs": [
    {
     "name": "stdout",
     "output_type": "stream",
     "text": [
      "Cross-validated R² scores: [0.48757587 0.49270461 0.58343789 0.91399022 0.33402279]\n",
      "Mean: 0.5623462757063009\n",
      "Standard Deviation: 0.19322034648085581\n"
     ]
    }
   ],
   "source": [
    "scores = cross_val_score(gbr, X, y, scoring='r2', cv=5)\n",
    "\n",
    "print(\"Cross-validated R² scores:\", scores)\n",
    "print(\"Mean:\", np.mean(scores))\n",
    "print(\"Standard Deviation:\", np.std(scores))"
   ]
  },
  {
   "cell_type": "code",
   "execution_count": 32,
   "id": "0f1c402b-0fd1-492b-9f89-c5c19fb8a3d4",
   "metadata": {},
   "outputs": [
    {
     "name": "stdout",
     "output_type": "stream",
     "text": [
      "Train R²: 0.9678417041078733\n",
      "Test R²: 0.9664939936026409\n"
     ]
    }
   ],
   "source": [
    "print(\"Train R²:\", gbr.score(X_train, y_train))\n",
    "print(\"Test R²:\", gbr.score(X_test, y_test))"
   ]
  },
  {
   "cell_type": "code",
   "execution_count": 33,
   "id": "0dd3a58d-e916-4aaf-bfe7-8cc7d712e42f",
   "metadata": {},
   "outputs": [
    {
     "data": {
      "image/png": "[encoded data removed]",
      "text/plain": [
       "<Figure size 640x480 with 1 Axes>"
      ]
     },
     "metadata": {},
     "output_type": "display_data"
    },
    {
     "data": {
      "image/png": "[encoded data removed]",
      "text/plain": [
       "<Figure size 640x480 with 1 Axes>"
      ]
     },
     "metadata": {},
     "output_type": "display_data"
    }
   ],
   "source": [
    "residuals = y_test - y_pred\n",
    "\n",
    "# Histogram of residuals\n",
    "sns.histplot(residuals, kde=True)\n",
    "plt.title(\"Residual Distribution\")\n",
    "plt.show()\n",
    "\n",
    "# Scatter plot\n",
    "plt.scatter(y_test, residuals)\n",
    "plt.axhline(0, color='red')\n",
    "plt.xlabel(\"Actual Values\")\n",
    "plt.ylabel(\"Residuals\")\n",
    "plt.title(\"Residuals vs Actual\")\n",
    "plt.show()\n"
   ]
  },
  {
   "cell_type": "markdown",
   "id": "75088325-ab83-4475-8fd3-8b16c126fd22",
   "metadata": {},
   "source": [
    "GradientBoostingRegressor has given us r2_score of 0.96. With"
   ]
  }
 ],
 "metadata": {
  "kernelspec": {
   "display_name": "Python 3 (ipykernel)",
   "language": "python",
   "name": "python3"
  },
  "language_info": {
   "codemirror_mode": {
    "name": "ipython",
    "version": 3
   },
   "file_extension": ".py",
   "mimetype": "text/x-python",
   "name": "python",
   "nbconvert_exporter": "python",
   "pygments_lexer": "ipython3",
   "version": "3.13.2"
  }
 },
 "nbformat": 4,
 "nbformat_minor": 5
}
